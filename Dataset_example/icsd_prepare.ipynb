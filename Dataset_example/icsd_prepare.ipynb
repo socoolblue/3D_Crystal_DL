{
 "cells": [
  {
   "cell_type": "code",
   "execution_count": null,
   "id": "6b5c45a6-b84a-4364-b047-56429731ee75",
   "metadata": {
    "tags": []
   },
   "outputs": [],
   "source": [
    "import numpy as np\n",
    "import pandas as pd\n",
    "#from pymatgen.core import structure, Lattice\n",
    "import re\n",
    "from scipy.spatial.transform import Rotation\n",
    "import open3d as o3d\n",
    "from tqdm.auto import tqdm\n",
    "\n",
    "\n",
    "def get_grid_points(grid):\n",
    "    dims = grid\n",
    "    return [np.array([i, j, k]) for i in np.linspace(0, 1, dims[0]) for j in np.linspace(0, 1, dims[1]) for k in np.linspace(0, 1, dims[2])]\n",
    "\n",
    "def grid_points_to_cartesian(lattice, grid_points):\n",
    "    return [lattice.get_cartesian_coords(gp) for gp in grid_points]\n"
   ]
  },
  {
   "cell_type": "code",
   "execution_count": null,
   "id": "b6c2fee1-1d88-44d0-bf16-b9e5efe0648b",
   "metadata": {
    "tags": []
   },
   "outputs": [],
   "source": [
    "import json\n",
    "with open(\"/path/to/saved/icsd_id_struc.json\", \"r\") as f:\n",
    "    dic = json.load(f)"
   ]
  },
  {
   "cell_type": "code",
   "execution_count": null,
   "id": "be7424a2-357c-43e4-ac38-885258af39fd",
   "metadata": {
    "tags": []
   },
   "outputs": [],
   "source": [
    "def make_np(i, dic):\n",
    "    data = pd.read_csv(i)\n",
    "    lp = re.findall(\"[+-]?\\d+\\.\\d+\", data.iloc[0, 0])\n",
    "    if len(lp) == 0:\n",
    "        lp = re.findall(\"[+-]?\\d+\\.\\d+\", data.columns.values[0])\n",
    "    if any(i in ['-1.#IND00E+00', '1.#IND00E+00', '-1.#INF00E+00',  '1.#INF00E+00', '-1.#INF00E+00'] for i in data.loc[10][0].split('  ')):\n",
    "        pass\n",
    "    else:\n",
    "        grid = np.array([int(s) for s in re.findall(r'\\d+', data.loc[1][0])])\n",
    "\n",
    "        if grid.size != 3:\n",
    "            grid = np.array([int(s) for s in re.findall(r'\\d+', data.loc[0][0])])\n",
    "\n",
    "            data_len = len(data.loc[1:])\n",
    "        else:\n",
    "\n",
    "            data_len = len(data.loc[2:])\n",
    "\n",
    "        #lattice = Lattice.from_parameters(float(lp[0]),float(lp[1]),float(lp[2]), float(lp[3]), float(lp[4]), float(lp[5]))\n",
    "        grid_points = get_grid_points(grid)\n",
    "        \n",
    "        cartesian_points = np.dot(grid_points, dic[i.split('/')[-1].split('.')[0]])\n",
    "\n",
    "\n",
    "        tar = [] \n",
    "\n",
    "        for k in  range(data_len):\n",
    "            if data_len == len(data.loc[2:]):\n",
    "                stringlist = data.loc[k + 2][0].split(\"  \")\n",
    "            else:\n",
    "                 stringlist = data.loc[k + 1][0].split(\"  \")\n",
    "            res = [val for idx, val in enumerate(stringlist)\n",
    "               if val or (not val and stringlist[idx])]\n",
    "            try:\n",
    "                res = np.array(res, dtype=np.float16)\n",
    "            except ValueError:\n",
    "                break\n",
    "            else:\n",
    "                tar.extend(res)\n",
    "\n",
    "\n",
    "        if len(tar) != grid[0]*grid[1]*grid[2]:\n",
    "            pass\n",
    "        else:\n",
    "            pc = np.zeros((len(tar), 4), dtype = np.float16)\n",
    "\n",
    "            pc[:, :3] = np.array(cartesian_points, dtype = np.float16)\n",
    "            pc[:, 3] = tar\n",
    "            #pc.astype(np.float16)\n",
    "            \n",
    "            np.save(\"/path/to/save/\" + i.split('/')[-1].split('.')[0] + '.npy', pc)\n",
    "            "
   ]
  },
  {
   "cell_type": "code",
   "execution_count": null,
   "id": "0ff418ab-a6f8-4e21-bbd1-e3275c5a98e1",
   "metadata": {},
   "outputs": [],
   "source": [
    "tot_grd = glob.glob(\"/path/to/*.grd\")"
   ]
  },
  {
   "cell_type": "code",
   "execution_count": null,
   "id": "1cb8f93e-2097-4f08-9120-80de904294ac",
   "metadata": {
    "scrolled": true,
    "tags": []
   },
   "outputs": [],
   "source": [
    "from joblib import Parallel, delayed\n",
    "timeout=99999\n",
    "Parallel(n_jobs=32, timeout=timeout)(delayed(make_np)(i, dic) for i in tqdm(tot_grd))"
   ]
  },
  {
   "cell_type": "code",
   "execution_count": null,
   "id": "54b0b3d6-df02-4703-9861-165dc5d50639",
   "metadata": {
    "tags": []
   },
   "outputs": [],
   "source": [
    "import glob\n",
    "\n",
    "npy_file = glob.glob(\"/path/to/npy/saved/*.npy\"):\n"
   ]
  },
  {
   "cell_type": "code",
   "execution_count": null,
   "id": "fce50e4a-ea2d-45a7-841e-c5a33e9ac8b6",
   "metadata": {
    "tags": []
   },
   "outputs": [],
   "source": [
    "import json\n",
    "with open(\"/path/to/icsd_vol.json\", \"r\") as f:\n",
    "    dict_vol = json.load(f)"
   ]
  },
  {
   "cell_type": "code",
   "execution_count": null,
   "id": "0255c793-9a29-4a89-a4cb-32f3a309df06",
   "metadata": {
    "scrolled": true,
    "tags": []
   },
   "outputs": [],
   "source": [
    "dict_vol"
   ]
  },
  {
   "cell_type": "code",
   "execution_count": null,
   "id": "bca076df-f4aa-4fc5-93bf-7fe38d2470d8",
   "metadata": {
    "tags": []
   },
   "outputs": [],
   "source": [
    "from torch_geometric.data import Batch, Data\n",
    "from tqdm.auto import tqdm\n",
    "import torch\n",
    "import torch_geometric.transforms as T\n",
    "import torch_points3d.core.data_transform as T3D\n",
    "import pickle\n",
    "import numpy as np\n",
    "import glob"
   ]
  },
  {
   "cell_type": "code",
   "execution_count": null,
   "id": "7fada995-3e6d-4358-bb6e-2bf7cab376ea",
   "metadata": {
    "tags": []
   },
   "outputs": [],
   "source": [
    "def make_pt(i, dict_vol):\n",
    "    data = np.load(i)\n",
    "    pre_transform1 = T.Compose([T3D.GridSampling3D(0.25,  quantize_coords=True, mode=\"last\")])\n",
    "\n",
    "\n",
    "    vol = dict_vol[i.split('/')[-1].split('.')[0]]\n",
    "    \n",
    "    data[:,3] = data[:,3]/vol\n",
    "    point_cloud = torch.from_numpy(data).to(dtype=torch.float32)\n",
    "    point_cloud = point_cloud[point_cloud[:, 3]> 0]\n",
    "    sampled_point_cloud = point_cloud\n",
    "    pos = sampled_point_cloud[:, :3]\n",
    "    t = sampled_point_cloud[:, 3:]\n",
    "    data1 = pre_transform1(Data(pos=pos, x=t))\n",
    "    torch.save(data1, '/path/to/save/icsd_cart_rand_pt/' + i.split('/')[-1].split('.')[0] + '.pt')"
   ]
  },
  {
   "cell_type": "code",
   "execution_count": null,
   "id": "698b04e5-817d-409b-b8d6-687d666bb94f",
   "metadata": {},
   "outputs": [],
   "source": [
    "for i in npy_file:\n",
    "    make_pt(i, dict_vol)"
   ]
  },
  {
   "cell_type": "code",
   "execution_count": null,
   "id": "a91cf550-d94b-456d-add0-970cc0efe656",
   "metadata": {},
   "outputs": [],
   "source": []
  },
  {
   "cell_type": "code",
   "execution_count": null,
   "id": "301b2628-e54e-4634-8d96-850f9963a82b",
   "metadata": {},
   "outputs": [],
   "source": []
  },
  {
   "cell_type": "code",
   "execution_count": null,
   "id": "1516fd4d-1f42-4e80-8121-21647b247456",
   "metadata": {},
   "outputs": [],
   "source": []
  },
  {
   "cell_type": "code",
   "execution_count": null,
   "id": "d59edfb3-7ba5-4a90-a5d2-78fc31d66df5",
   "metadata": {},
   "outputs": [],
   "source": []
  },
  {
   "cell_type": "code",
   "execution_count": null,
   "id": "c6fc51fb-86d6-42fe-8fc4-657afc0b1e48",
   "metadata": {},
   "outputs": [],
   "source": []
  },
  {
   "cell_type": "code",
   "execution_count": null,
   "id": "2ce44677-ed19-4c38-8ad9-c64f76caed3d",
   "metadata": {},
   "outputs": [],
   "source": []
  },
  {
   "cell_type": "code",
   "execution_count": null,
   "id": "779c79b5-40df-4118-9ba3-234ea0186763",
   "metadata": {},
   "outputs": [],
   "source": []
  }
 ],
 "metadata": {
  "kernelspec": {
   "display_name": "Python [conda env:pc_torch]",
   "language": "python",
   "name": "conda-env-pc_torch-py"
  },
  "language_info": {
   "codemirror_mode": {
    "name": "ipython",
    "version": 3
   },
   "file_extension": ".py",
   "mimetype": "text/x-python",
   "name": "python",
   "nbconvert_exporter": "python",
   "pygments_lexer": "ipython3",
   "version": "3.8.16"
  }
 },
 "nbformat": 4,
 "nbformat_minor": 5
}
